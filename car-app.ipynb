{
 "cells": [
  {
   "cell_type": "code",
   "execution_count": 112,
   "metadata": {},
   "outputs": [
    {
     "data": {
      "application/vnd.jupyter.widget-view+json": {
       "model_id": "7bf5eb7d1130430bbc91441968af79de",
       "version_major": 2,
       "version_minor": 0
      },
      "text/plain": [
       "AppLayout(children=(Button(description='🚗🏎️ CAR - CLASSIFIER 🚗🏎️', layout=Layout(grid_area='header', height='a…"
      ]
     },
     "metadata": {},
     "output_type": "display_data"
    }
   ],
   "source": [
    "from ipywidgets import Button, FileUpload, GridspecLayout\n",
    "from ipywidgets import AppLayout, Button, Layout\n",
    "def create_expanded_button(description):\n",
    "    return Button(description=description,layout=Layout(height='auto', width='auto'))\n",
    "\n",
    "header_button = create_expanded_button('🚗🏎️ CAR - CLASSIFIER 🚗🏎️')\n",
    "header_button.style.button_color = \"lightblue\"\n",
    "AppLayout(header=header_button)"
   ]
  },
  {
   "cell_type": "markdown",
   "metadata": {},
   "source": [
    "# Car Classifier 🚗🏎️\n",
    "> This model classifies 3 types of car images (Swift,Polo,Nano)\n",
    "\n",
    "Upload  an image of one of the three types mentioned above to see model in action predicting the actual model name with accuracy score !\n",
    "\n",
    "---"
   ]
  },
  {
   "cell_type": "code",
   "execution_count": 19,
   "metadata": {},
   "outputs": [],
   "source": [
    "##import required packages\n",
    "from fastai.utils import *\n",
    "from fastai2.vision.widgets import *\n",
    "from fastai2.learner import *\n",
    "from fastai2.vision.core import * "
   ]
  },
  {
   "cell_type": "code",
   "execution_count": 20,
   "metadata": {},
   "outputs": [],
   "source": [
    "#load the pretrained model\n",
    "learn_inf = load_learner('export.pkl')"
   ]
  },
  {
   "cell_type": "code",
   "execution_count": 25,
   "metadata": {},
   "outputs": [],
   "source": [
    "#create widgets for label , classify and upload buttons using ipywidget\n",
    "out_pl = widgets.Output()\n",
    "lbl_pred = widgets.Label()\n",
    "btn_run = widgets.Button(description='Classify')\n",
    "btn_run.style.button_color = 'lightgreen'\n",
    "btn_upload = widgets.FileUpload()\n",
    "btn_upload.style.button_color = 'lightblue'\n",
    "\n",
    "#define  onclick listner function for classify button\n",
    "def on_click_classify(change):\n",
    "    img = PILImage.create(btn_upload.data[-1])\n",
    "    out_pl.clear_output()\n",
    "    with out_pl: display(img.to_thumb(128,128))\n",
    "    pred,pred_idx,probs = learn_inf.predict(img)\n",
    "    lbl_pred.value = f'Prediction Class: {pred}; Probability: {probs[pred_idx]:.04f}'\n",
    "\n",
    "#register function for onclick classify button \n",
    "btn_upload.observe(on_click_classify,names=['data'])"
   ]
  },
  {
   "cell_type": "code",
   "execution_count": 89,
   "metadata": {},
   "outputs": [
    {
     "data": {
      "application/vnd.jupyter.widget-view+json": {
       "model_id": "16f8132d1f1e42c08b46ec3437f06fc2",
       "version_major": 2,
       "version_minor": 0
      },
      "text/plain": [
       "VBox(children=(Label(value='Upload one of the image of (swift,polo,nano) car to classify!'), FileUpload(value=…"
      ]
     },
     "metadata": {},
     "output_type": "display_data"
    }
   ],
   "source": [
    "#align the widgets in vertical fashion\n",
    "display(VBox([widgets.Label('Upload one of the image of (swift,polo,nano) car to classify!'), \n",
    "      btn_upload, btn_run, out_pl, lbl_pred]))"
   ]
  }
 ],
 "metadata": {
  "kernelspec": {
   "display_name": "Python 3",
   "language": "python",
   "name": "python3"
  },
  "language_info": {
   "codemirror_mode": {
    "name": "ipython",
    "version": 3
   },
   "file_extension": ".py",
   "mimetype": "text/x-python",
   "name": "python",
   "nbconvert_exporter": "python",
   "pygments_lexer": "ipython3",
   "version": "3.7.7"
  }
 },
 "nbformat": 4,
 "nbformat_minor": 4
}
